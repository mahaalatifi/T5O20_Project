{
 "cells": [
  {
   "cell_type": "markdown",
   "id": "344925fd-b194-4723-9280-11e4dee9f85d",
   "metadata": {
    "jp-MarkdownHeadingCollapsed": true,
    "tags": []
   },
   "source": [
    "# Import Libraries "
   ]
  },
  {
   "cell_type": "code",
   "execution_count": null,
   "id": "b0bc6696-4516-459c-a686-a3097cde737d",
   "metadata": {},
   "outputs": [],
   "source": [
    "\n",
    "import numpy as np\n",
    "import pandas as pd\n",
    "import matplotlib.pyplot as plt\n",
    "import seaborn as sns\n",
    "from scipy import stats\n",
    "\n",
    "import itertools\n",
    "from sklearn.model_selection import train_test_split\n",
    "from sklearn.linear_model import LogisticRegression\n",
    "from sklearn.neighbors import KNeighborsClassifier\n",
    "from sklearn.tree import DecisionTreeClassifier\n",
    "from sklearn.metrics import accuracy_score, confusion_matrix, f1_score\n"
   ]
  },
  {
   "cell_type": "markdown",
   "id": "3a79c7cc-7afd-439f-a668-75797284d04f",
   "metadata": {
    "jp-MarkdownHeadingCollapsed": true,
    "tags": []
   },
   "source": [
    "# Import and Read Dataset"
   ]
  },
  {
   "cell_type": "code",
   "execution_count": null,
   "id": "646f3e71-ace6-4dd8-89fb-59ca774e9a0c",
   "metadata": {},
   "outputs": [],
   "source": [
    "\n",
    "df = pd.read_csv('/Users/mahaalatifi/Downloads/application_data.csv')\n",
    "\n",
    "\n",
    "# First rows of Data\n",
    "df.head(3)\n",
    "\n"
   ]
  },
  {
   "cell_type": "markdown",
   "id": "a0c16fce-ba99-41ad-9108-81e4c3d11d9e",
   "metadata": {
    "tags": []
   },
   "source": [
    "## Data Dimensions"
   ]
  },
  {
   "cell_type": "code",
   "execution_count": null,
   "id": "1bcaca7f-2437-4e9c-8ffe-0446e71f94af",
   "metadata": {},
   "outputs": [],
   "source": [
    "\n",
    "df.shape\n",
    "\n",
    "#df.dtypes\n",
    "#df.describe()\n",
    "\n",
    "#df['TARGET'].value_counts()\n"
   ]
  },
  {
   "cell_type": "code",
   "execution_count": null,
   "id": "202279d6-abbc-4fe3-b7a4-d953881d8791",
   "metadata": {},
   "outputs": [],
   "source": [
    "df['NAME_TYPE_SUITE'].value_counts()"
   ]
  },
  {
   "cell_type": "markdown",
   "id": "5ae0a0ad-1030-4dbc-9b8f-4e752a38cb97",
   "metadata": {
    "jp-MarkdownHeadingCollapsed": true,
    "tags": []
   },
   "source": [
    "# Cleaning Dataset"
   ]
  },
  {
   "cell_type": "markdown",
   "id": "f06bde72-4ad2-4b01-b8ab-537bd71d1657",
   "metadata": {},
   "source": [
    "\n",
    "<b>Common data cleaning steps for the dataframe</b>\n",
    "<ul><li>Check duplicated rows </li>\n",
    "        <li> Drop dublicated rows </li>\n",
    "    <li> Check missing values  </li>\n",
    "    <li> Drop unused columns  </li> </ul>\n",
    " \n",
    "    "
   ]
  },
  {
   "cell_type": "markdown",
   "id": "279a9826-ab43-4d08-adad-f38b1043bc63",
   "metadata": {
    "tags": []
   },
   "source": [
    "## Check duplicated rows"
   ]
  },
  {
   "cell_type": "code",
   "execution_count": null,
   "id": "da65ffc4-880f-400f-a453-97ff96f479d2",
   "metadata": {},
   "outputs": [],
   "source": [
    "\n",
    "# make copy for the original dataframe\n",
    "df_copy = df.copy()\n"
   ]
  },
  {
   "cell_type": "code",
   "execution_count": null,
   "id": "4b475b1e-0039-4452-a5e1-5ce68c118e7f",
   "metadata": {},
   "outputs": [],
   "source": [
    "Duplicate = df_copy[df_copy.duplicated()]\n",
    "  \n",
    "print(\"Duplicate Rows :\")\n",
    "  \n",
    "# Print the result Dataframe\n",
    "Duplicate\n"
   ]
  },
  {
   "cell_type": "code",
   "execution_count": null,
   "id": "52363536-cb96-4bf3-8b07-baf91c346af5",
   "metadata": {},
   "outputs": [],
   "source": [
    "\n",
    "# print count of the duplicated rows\n",
    "len(df_copy[df_copy.duplicated()])\n"
   ]
  },
  {
   "cell_type": "markdown",
   "id": "d8cef902-ee64-4630-b900-0bbfb77ab151",
   "metadata": {
    "tags": []
   },
   "source": [
    "## Drop duplicated rows"
   ]
  },
  {
   "cell_type": "code",
   "execution_count": null,
   "id": "db6549c3-d2f7-4376-9aec-b2dff8770cac",
   "metadata": {},
   "outputs": [],
   "source": [
    "\n",
    "# drop the duplicated rows\n",
    "df_copy = df_copy.drop_duplicates()\n"
   ]
  },
  {
   "cell_type": "markdown",
   "id": "f2c9b131-dda7-4206-85a4-d99400273680",
   "metadata": {
    "tags": []
   },
   "source": [
    "## Check missing values (Percentage)"
   ]
  },
  {
   "cell_type": "code",
   "execution_count": null,
   "id": "1538eb0e-b687-4c23-8c6b-578906b5e463",
   "metadata": {},
   "outputs": [],
   "source": [
    "\n",
    "pd.set_option(\"display.max_rows\", None, \"display.max_columns\", None)\n",
    "display( round(100 * (df.isnull().sum() / len(df.index)),2) )\n"
   ]
  },
  {
   "cell_type": "markdown",
   "id": "f8ff51ff-dd14-4d66-a2b8-63b6fc5b906b",
   "metadata": {},
   "source": [
    "\n",
    "<b>Removing columns with missing values more than 40%</b>\n",
    "<ul>  </ul>\n",
    " \n",
    "    "
   ]
  },
  {
   "cell_type": "code",
   "execution_count": null,
   "id": "ad91a80d-5b15-4883-952c-1c46bf7d20ae",
   "metadata": {},
   "outputs": [],
   "source": [
    "df_copy = df_copy.drop(['OWN_CAR_AGE','OCCUPATION_TYPE','EXT_SOURCE_1','EXT_SOURCE_2','EXT_SOURCE_3',\n",
    "                        'APARTMENTS_AVG','BASEMENTAREA_AVG','YEARS_BEGINEXPLUATATION_AVG','YEARS_BUILD_AVG',\n",
    "                        'COMMONAREA_AVG','ELEVATORS_AVG','ENTRANCES_AVG','FLOORSMAX_AVG','FLOORSMIN_AVG',\n",
    "                        'LANDAREA_AVG','LIVINGAPARTMENTS_AVG','LIVINGAREA_AVG','NONLIVINGAPARTMENTS_AVG',\n",
    "                        'NONLIVINGAREA_AVG','APARTMENTS_MODE','BASEMENTAREA_MODE','YEARS_BEGINEXPLUATATION_MODE',\n",
    "                        'YEARS_BUILD_MODE','COMMONAREA_MODE','ELEVATORS_MODE','ENTRANCES_MODE','FLOORSMAX_MODE',\n",
    "                        'FLOORSMIN_MODE','LANDAREA_MODE','LIVINGAPARTMENTS_MODE','LIVINGAREA_MODE',\n",
    "                        'NONLIVINGAPARTMENTS_MODE','NONLIVINGAREA_MODE','APARTMENTS_MEDI','BASEMENTAREA_MEDI',\n",
    "                        'YEARS_BEGINEXPLUATATION_MEDI','YEARS_BUILD_MEDI','COMMONAREA_MEDI','ELEVATORS_MEDI',\n",
    "                        'ENTRANCES_MEDI','FLOORSMAX_MEDI','FLOORSMIN_MEDI','LANDAREA_MEDI',\n",
    "                        'LIVINGAPARTMENTS_MEDI','LIVINGAREA_MEDI','NONLIVINGAPARTMENTS_MEDI',\n",
    "                        'NONLIVINGAREA_MEDI','FONDKAPREMONT_MODE','HOUSETYPE_MODE','TOTALAREA_MODE',\n",
    "                        'WALLSMATERIAL_MODE','EMERGENCYSTATE_MODE'] , axis=1)"
   ]
  },
  {
   "cell_type": "code",
   "execution_count": null,
   "id": "5a74f0a2-236d-4b65-8b32-3ddd86617951",
   "metadata": {},
   "outputs": [],
   "source": [
    "df_copy.shape"
   ]
  },
  {
   "cell_type": "code",
   "execution_count": null,
   "id": "b4923f1d-be64-418c-af5b-31fe91df5518",
   "metadata": {},
   "outputs": [],
   "source": [
    "\n",
    "# Percentage of Null Values:\n",
    "pd.set_option(\"display.max_rows\", None, \"display.max_columns\", None)\n",
    "display( round(100 * (df_copy.isnull().sum() / len(df_copy.index)),2) )\n",
    "\n",
    "\n",
    "# Count of Null Values:\n",
    "print(df_copy.isnull().sum())\n"
   ]
  },
  {
   "cell_type": "code",
   "execution_count": null,
   "id": "290cbcfe-7bf9-44c6-9e61-4ea2b06c3c52",
   "metadata": {},
   "outputs": [],
   "source": [
    "print(type(df_copy.info()))"
   ]
  },
  {
   "cell_type": "markdown",
   "id": "fa05d54e-0b93-4788-a328-25e046ce096b",
   "metadata": {},
   "source": [
    "\n",
    "<b>Dealing with missing values</b>\n",
    "<ul>  </ul>\n",
    " \n",
    "    "
   ]
  },
  {
   "cell_type": "markdown",
   "id": "3814d480-0250-45f0-9c8f-a67d3194aaaa",
   "metadata": {},
   "source": [
    "\n",
    "<li> Now we have dropped {52} unused columns, since the Null values percentage for these columns is more than 40%</li>\n",
    "\n",
    "<li>Moreover, we have now {70} columns, {12} of them have percentage of Null values less than 40% and we need to handle them.</li>\n",
    "\n",
    "<li>The rest of columns have 0% of Null values </li>\n",
    "\n",
    "<ul>  </ul>\n",
    "\n",
    "<b>  </b> \n",
    "    "
   ]
  },
  {
   "cell_type": "code",
   "execution_count": null,
   "id": "a34864f4-5896-428b-8514-5f6f2375e189",
   "metadata": {},
   "outputs": [],
   "source": []
  },
  {
   "cell_type": "markdown",
   "id": "205889e7-ffb0-4664-83ca-db95af1a961b",
   "metadata": {
    "jp-MarkdownHeadingCollapsed": true,
    "tags": []
   },
   "source": [
    "# Features Understanding"
   ]
  },
  {
   "cell_type": "markdown",
   "id": "18fb15c2-502c-429c-9f6b-0e6129b0b055",
   "metadata": {},
   "source": [
    "\n",
    "<b>The dataset contain all the information of the client at the time of application for loan. The data is about whether a client has payment difficulties or NOT</b>\n",
    "\n",
    "<ul> Therefore, we have column \"TARGET\", that will predict to minimise the risk of losing money while lending to customers. \n",
    "</ul>\n",
    "\n",
    "<ul> Moreover, it contains two options:</ul>\n",
    "<ul> <b>1</b> :Client with payment difficulties: he/she had late payment more than X days. \"Defaulter\"\n",
    "\n",
    "<b>0</b> : All other cases when the payment is paid on time. \"Non-Defaulter\" </ul>\n",
    "\n",
    "\n",
    "<b>\n",
    "    Distribution of Target variable\n",
    "</b>\n",
    " "
   ]
  },
  {
   "cell_type": "code",
   "execution_count": null,
   "id": "affa0bd2-568e-4f1c-bc8f-1f9d1ef7612f",
   "metadata": {},
   "outputs": [],
   "source": [
    "T1 = df_copy[\"TARGET\"].value_counts().plot(kind=\"barh\")\n",
    "#for i,j in enumerate(df_copy[\"TARGET\"].value_counts().values):\n",
    " #   T1.text(0.5,i,j,fontsize=20)\n",
    "plt.title(\"Count of Target variable\")"
   ]
  },
  {
   "cell_type": "code",
   "execution_count": null,
   "id": "adbca0fd-46d9-4794-b048-7e3d7eee1711",
   "metadata": {},
   "outputs": [],
   "source": [
    "T2 = df_copy[\"TARGET\"].value_counts().plot.pie(labels=[\"Non-Defaulter\",\"Defaulter\"],startangle = 50,label='',\n",
    "                                          wedgeprops={\"linewidth\":5},center=(0, 0),colors = [\"DarkSeaGreen\",\"SandyBrown\"],\n",
    "                                          rotatelabels=False,explode=[0.1,0],autopct = \"%1.0f%%\",figsize=(5,5))\n",
    "plt.title(\"Percentage of Target variable\")"
   ]
  },
  {
   "cell_type": "markdown",
   "id": "5cc0bc72-ff22-49e5-9d2f-a05ddaa18297",
   "metadata": {},
   "source": [
    "\n",
    "<b>\n",
    "    Distribution of [NAME_CONTRACT_TYPE] variable\n",
    "</b>\n",
    " "
   ]
  },
  {
   "cell_type": "code",
   "execution_count": null,
   "id": "c8f540c7-c2ab-4836-9a95-cf6906090c0d",
   "metadata": {},
   "outputs": [],
   "source": [
    "df['NAME_CONTRACT_TYPE'].unique()"
   ]
  },
  {
   "cell_type": "code",
   "execution_count": null,
   "id": "d622dcd6-9374-4ce9-9b92-ff3e2cc366c4",
   "metadata": {},
   "outputs": [],
   "source": [
    "NCT = df_copy[\"NAME_CONTRACT_TYPE\"].value_counts().plot.pie(labels=[\"Cash loans\",\"Revolving loans\"],\n",
    "                                                            startangle = 30,wedgeprops={\"linewidth\":5},\n",
    "                                                            center=(0, 0),colors = [\"Blue\",\"Yellow\"],\n",
    "                                                            rotatelabels=False,explode=[0.1,0],\n",
    "                                                            autopct = \"%1.0f%%\",figsize=(5,5),label='')\n",
    "plt.title(\"Percentage of NAME_CONTRACT_TYPE variable\")"
   ]
  },
  {
   "cell_type": "markdown",
   "id": "26766f1c-d4d2-4b2d-bf7c-ca956c244052",
   "metadata": {},
   "source": [
    "\n",
    "<b>\n",
    "    Distribution of [Amount Data] variable:\n",
    "</b>\n",
    "    <li> [AMT_INCOME_TOTAL]: income of the client\n",
    "    <li> [AMT_CREDIT]: credit amount of the loan\n",
    "    <li> [AMT_ANNUITY]: loan annuity\n",
    "    <li> [AMT_GOODS_PRICE]: for consumer loans it is the price of the goods for which the loan is given\n",
    "</li>\n",
    "\n",
    " "
   ]
  },
  {
   "cell_type": "code",
   "execution_count": null,
   "id": "f8dea50a-e28d-4f1f-9f38-6433bbbc8d6f",
   "metadata": {},
   "outputs": [],
   "source": [
    "amount_data = df_copy[[ 'AMT_INCOME_TOTAL','AMT_CREDIT', 'AMT_ANNUITY', 'AMT_GOODS_PRICE','TARGET']]\n",
    "amount_data = amount_data[(amount_data[\"AMT_GOODS_PRICE\"].notnull()) & (amount_data[\"AMT_ANNUITY\"].notnull())]\n",
    "ax= sns.pairplot(amount_data,hue=\"TARGET\",palette=[\"g\",\"r\"])\n",
    "ax.fig.legend(labels=['Non_Defaulter','Defaulter'])\n",
    "plt.show()"
   ]
  },
  {
   "cell_type": "code",
   "execution_count": null,
   "id": "7b5743f0-d3a1-4396-9d1a-0912008bf5ad",
   "metadata": {},
   "outputs": [],
   "source": [
    "continous_features = df_copy[[ 'AMT_INCOME_TOTAL','AMT_CREDIT', 'AMT_ANNUITY', 'AMT_GOODS_PRICE']]\n"
   ]
  },
  {
   "cell_type": "code",
   "execution_count": null,
   "id": "bc057442-9c8d-4485-8d7c-0e112776a046",
   "metadata": {},
   "outputs": [],
   "source": [
    "import warnings\n",
    "warnings.filterwarnings(\"ignore\")\n",
    "for i in continous_features:\n",
    "    Non_Defaulter = list(df_copy[df_copy['TARGET'] == 0][i].dropna())\n",
    "    Defaulter = list(df_copy[df_copy['TARGET'] == 1][i].dropna())\n",
    "    xmin = min(min(normal), min(disease))\n",
    "    xmax = max(max(normal), max(disease))\n",
    "    width = (xmax - xmin) / 40\n",
    "    sns.distplot(Non_Defaulter, color='g', kde=False, bins=np.arange(xmin, xmax, width))\n",
    "    sns.distplot(Defaulter, color='r', kde=False, bins=np.arange(xmin, xmax, width))\n",
    "    plt.legend(['normal', 'h'])\n",
    "    plt.title('Overlaid histogram for {}'.format(i))\n",
    "    plt.show()"
   ]
  },
  {
   "cell_type": "markdown",
   "id": "c7d998e2-18ec-4c7c-9883-2bf604d09386",
   "metadata": {
    "tags": []
   },
   "source": [
    "## Features Correlation"
   ]
  },
  {
   "cell_type": "code",
   "execution_count": null,
   "id": "cffb8030-2d3c-4fa3-910d-d0838e095482",
   "metadata": {},
   "outputs": [],
   "source": [
    "print(type(df_copy.info()))"
   ]
  },
  {
   "cell_type": "code",
   "execution_count": null,
   "id": "b59ebb9a-3e1b-4c4f-a04f-e88611bbd574",
   "metadata": {},
   "outputs": [],
   "source": [
    "df_copy.corr()"
   ]
  },
  {
   "cell_type": "code",
   "execution_count": null,
   "id": "49afcade-af15-406e-98f2-ca98d005ff12",
   "metadata": {},
   "outputs": [],
   "source": [
    "def describe_cont_feature(feature):\n",
    "    print('\\n*** Results for {} ***'.format(feature))\n",
    "    print(df_copy.groupby('TARGET')[feature].describe())\n",
    "    print(ttest(feature))\n",
    "    \n",
    "def ttest(feature):\n",
    "    Defaulter = df_copy[df_copy['TARGET']==1][feature]\n",
    "    Non_Defaulter = df_copy[df_copy['TARGET']==0][feature]\n",
    "    tstat, pval = stats.ttest_ind(Defaulter, Non_Defaulter, equal_var=False)\n",
    "    print('t-statistic: {:.1f}, p-value: {:.3}'.format(tstat, pval))"
   ]
  },
  {
   "cell_type": "code",
   "execution_count": null,
   "id": "ab2f0503-dbb4-447b-b2cf-ef6fd5c8ff49",
   "metadata": {},
   "outputs": [],
   "source": [
    "features = list(df_copy.columns)\n",
    "features.remove('TARGET')\n",
    "features"
   ]
  },
  {
   "cell_type": "code",
   "execution_count": null,
   "id": "28444d5a-f57c-4813-93c7-2365e9a302d9",
   "metadata": {},
   "outputs": [],
   "source": [
    "# Look at the distribution of each feature at each level of the target variable\n",
    "  \n",
    "    \n",
    "for feature in features:\n",
    "    describe_cont_feature(feature)\n"
   ]
  },
  {
   "cell_type": "code",
   "execution_count": null,
   "id": "d3650bd2-9443-4385-884b-b37be6247c2c",
   "metadata": {},
   "outputs": [],
   "source": [
    "fig, ax = plt.subplots(figsize=(12,12))\n",
    "sns.heatmap(df_copy.corr()[['TARGET']].sort_values('TARGET').tail(15),\n",
    " vmax=1, vmin=-1, cmap='YlGnBu', annot=True, ax=ax);\n",
    "ax.invert_yaxis()"
   ]
  },
  {
   "cell_type": "code",
   "execution_count": null,
   "id": "842686ae-768a-497f-b377-3d42cdac34ea",
   "metadata": {},
   "outputs": [],
   "source": [
    "#  plotting correlation heatmap\n",
    "\n",
    "#plt.figure(figsize = (15,8))\n",
    "Dataplot = sns.heatmap(df_copy.corr())\n",
    "\n",
    "#  Displaying heatmap\n",
    "plt.show()\n"
   ]
  },
  {
   "cell_type": "markdown",
   "id": "cec46940-db7c-4771-964f-446d421b31a2",
   "metadata": {},
   "source": [
    "\n",
    "<b>\n",
    "    Checking the correlation between the 'Flag_Document' columns with 'TARGET' column:\n",
    "</b>\n",
    "   \n",
    "\n",
    " "
   ]
  },
  {
   "cell_type": "code",
   "execution_count": null,
   "id": "3e6da845-4362-4f74-9a66-b1d6dd145cbe",
   "metadata": {},
   "outputs": [],
   "source": [
    "col_Doc = df_copy[[ 'FLAG_DOCUMENT_2', 'FLAG_DOCUMENT_3','FLAG_DOCUMENT_4', 'FLAG_DOCUMENT_5', 'FLAG_DOCUMENT_6','FLAG_DOCUMENT_7', \n",
    "           'FLAG_DOCUMENT_8', 'FLAG_DOCUMENT_9','FLAG_DOCUMENT_10', 'FLAG_DOCUMENT_11', 'FLAG_DOCUMENT_12','FLAG_DOCUMENT_13',\n",
    "           'FLAG_DOCUMENT_14', 'FLAG_DOCUMENT_15','FLAG_DOCUMENT_16', 'FLAG_DOCUMENT_17', 'FLAG_DOCUMENT_18',\n",
    "           'FLAG_DOCUMENT_19', 'FLAG_DOCUMENT_20', 'FLAG_DOCUMENT_21','TARGET']]\n",
    "\n",
    "\n",
    "Doc_corr = col_Doc.corr()\n",
    "plt.figure(figsize = (25,15))\n",
    "ax = sns.heatmap(Doc_corr,\n",
    "            xticklabels=Doc_corr.columns,\n",
    "            yticklabels=Doc_corr.columns,\n",
    "            annot = True,\n",
    "            cmap =\"RdYlGn\")"
   ]
  },
  {
   "cell_type": "markdown",
   "id": "130f25ca-c262-4419-8044-e08ccb7bae72",
   "metadata": {},
   "source": [
    "\n",
    "<b>\n",
    "    Based on the above Heatmap, we can see there is almost no correlation between 'Flag_Document' Features and 'TAEGET' column, thus we can drop these columns. \n",
    "</b>\n",
    "   \n",
    "\n",
    " "
   ]
  },
  {
   "cell_type": "code",
   "execution_count": null,
   "id": "87b68e4f-8497-4539-ba5a-de65e7b78d1f",
   "metadata": {},
   "outputs": [],
   "source": [
    "df_copy = df_copy.drop(['FLAG_DOCUMENT_2', 'FLAG_DOCUMENT_3','FLAG_DOCUMENT_4', 'FLAG_DOCUMENT_5', 'FLAG_DOCUMENT_6','FLAG_DOCUMENT_7', \n",
    "           'FLAG_DOCUMENT_8', 'FLAG_DOCUMENT_9','FLAG_DOCUMENT_10', 'FLAG_DOCUMENT_11', 'FLAG_DOCUMENT_12','FLAG_DOCUMENT_13',\n",
    "           'FLAG_DOCUMENT_14', 'FLAG_DOCUMENT_15','FLAG_DOCUMENT_16', 'FLAG_DOCUMENT_17', 'FLAG_DOCUMENT_18',\n",
    "           'FLAG_DOCUMENT_19', 'FLAG_DOCUMENT_20', 'FLAG_DOCUMENT_21'] , axis=1)"
   ]
  },
  {
   "cell_type": "code",
   "execution_count": null,
   "id": "35d11b0e-7c5d-4493-9fc4-49736baa6576",
   "metadata": {},
   "outputs": [],
   "source": [
    "df_copy.shape"
   ]
  },
  {
   "cell_type": "markdown",
   "id": "98ea3bdc-7ec4-4173-9de8-4d8e262b770b",
   "metadata": {},
   "source": [
    "\n",
    "<b>\n",
    "    Checking the correlation between the Contacts columns [mobile phone, work phone, home phone etc, and email] with 'TARGET' column:\n",
    "</b>\n",
    "   \n",
    "\n",
    " "
   ]
  },
  {
   "cell_type": "code",
   "execution_count": null,
   "id": "11cb140b-eb18-4a41-8380-1d56f102158c",
   "metadata": {},
   "outputs": [],
   "source": [
    "\n",
    "contact_col = df_copy[['FLAG_MOBIL', 'FLAG_EMP_PHONE', 'FLAG_WORK_PHONE', 'FLAG_CONT_MOBILE',\n",
    "                       'FLAG_PHONE', 'FLAG_EMAIL','TARGET']]\n",
    "Contact_corr = contact_col.corr()\n",
    "fig = plt.figure(figsize=(8,8))\n",
    "ax = sns.heatmap(Contact_corr,\n",
    "            xticklabels=Contact_corr.columns,\n",
    "            yticklabels=Contact_corr.columns,\n",
    "            annot = True,\n",
    "            cmap =\"RdYlGn\",\n",
    "            linewidth=1)"
   ]
  },
  {
   "cell_type": "markdown",
   "id": "90b83286-cc8a-4339-8383-84cce61a7c86",
   "metadata": {},
   "source": [
    "\n",
    "<b>\n",
    "    Based on the above Heatmap, we can see there is almost no correlation between 'Contacts columns' and 'TAEGET' column, thus we can drop these columns. \n",
    "</b>\n",
    "   \n",
    "\n",
    " "
   ]
  },
  {
   "cell_type": "code",
   "execution_count": null,
   "id": "216b067a-065d-4369-85fa-e198be4db605",
   "metadata": {},
   "outputs": [],
   "source": [
    "df_copy = df_copy.drop(['FLAG_MOBIL', 'FLAG_EMP_PHONE', 'FLAG_WORK_PHONE', 'FLAG_CONT_MOBILE',\n",
    "                       'FLAG_PHONE', 'FLAG_EMAIL'] , axis=1)"
   ]
  },
  {
   "cell_type": "code",
   "execution_count": null,
   "id": "7156234e-ed18-4111-864e-0f481b04a40e",
   "metadata": {},
   "outputs": [],
   "source": [
    "df_copy.shape"
   ]
  },
  {
   "cell_type": "markdown",
   "id": "d3b01447-718e-4bd6-95a9-45a9a513dff3",
   "metadata": {
    "jp-MarkdownHeadingCollapsed": true,
    "tags": []
   },
   "source": [
    "# Modeling"
   ]
  },
  {
   "cell_type": "code",
   "execution_count": null,
   "id": "8a7af121-606a-4e68-a133-1be69b49b7a0",
   "metadata": {},
   "outputs": [],
   "source": [
    "#x_train[['AMT_INCOME_TOTAL', 'AMT_CREDIT','AMT_ANNUITY', 'AMT_GOODS_PRICE']] = scaler.fit_transform(x_train[['AMT_INCOME_TOTAL','AMT_CREDIT','AMT_ANNUITY', 'AMT_GOODS_PRICE']])\n",
    "#x_test[['AMT_INCOME_TOTAL', 'AMT_CREDIT','AMT_ANNUITY', 'AMT_GOODS_PRICE']] = scaler.fit_transform(x_test[['AMT_INCOME_TOTAL', 'AMT_CREDIT','AMT_ANNUITY', 'AMT_GOODS_PRICE']])\n",
    "\n",
    "#y = df_copy['TARGET']"
   ]
  },
  {
   "cell_type": "code",
   "execution_count": null,
   "id": "18805398-7368-473e-bd38-9a78c98c0180",
   "metadata": {},
   "outputs": [],
   "source": [
    "# Cash loans = 1  , Revolving loans = 2 \n",
    "\n",
    "#df_copy.NAME_CONTRACT_TYPE[df_copy.NAME_CONTRACT_TYPE == 'Cash loans'] = 1\n",
    "#df_copy.NAME_CONTRACT_TYPE[df_copy.NAME_CONTRACT_TYPE == 'Revolving loans'] = 2\n"
   ]
  },
  {
   "cell_type": "markdown",
   "id": "a0b1bbf2-39c6-4e11-85f8-b38ec80e2534",
   "metadata": {
    "jp-MarkdownHeadingCollapsed": true,
    "tags": []
   },
   "source": [
    "# Modelling with Imbalanced dataset\n"
   ]
  },
  {
   "cell_type": "code",
   "execution_count": null,
   "id": "32d03ee2-f5e3-4d9b-a79b-a95cfbd843b7",
   "metadata": {},
   "outputs": [],
   "source": [
    "# import\n",
    "\n",
    "import string\n",
    "from sklearn.pipeline import Pipeline\n",
    "from sklearn.datasets import fetch_20newsgroups\n",
    "from sklearn.feature_extraction.text import TfidfVectorizer\n",
    "from sklearn.naive_bayes import MultinomialNB\n",
    "from sklearn import metrics\n",
    "from sklearn.metrics import classification_report \n",
    "from sklearn.model_selection import GridSearchCV, KFold, cross_val_predict\n",
    "\n",
    "\n",
    "from sklearn.tree import DecisionTreeClassifier\n",
    "\n",
    "from sklearn.ensemble import BaggingClassifier\n",
    "from sklearn.linear_model import LogisticRegression\n",
    "\n",
    "from sklearn.linear_model import SGDClassifier\n",
    "from sklearn.svm import SVC\n",
    "\n",
    "from sklearn.ensemble import RandomForestClassifier\n",
    "from sklearn.tree import DecisionTreeClassifier\n",
    "\n",
    "from sklearn.naive_bayes import GaussianNB\n",
    "\n",
    "from sklearn.neighbors import KNeighborsClassifier\n",
    "\n",
    "from sklearn.ensemble import GradientBoostingClassifier\n",
    "\n"
   ]
  },
  {
   "cell_type": "code",
   "execution_count": null,
   "id": "a407faac-3d05-4676-b061-8298dc7878a9",
   "metadata": {},
   "outputs": [],
   "source": [
    "## pd.get_dummies(df_copy)"
   ]
  },
  {
   "cell_type": "code",
   "execution_count": null,
   "id": "bcdbd15d-52f9-4875-aad1-e56a375a624d",
   "metadata": {},
   "outputs": [],
   "source": [
    "df_new = pd.get_dummies(df_copy, columns=['NAME_CONTRACT_TYPE','CODE_GENDER','FLAG_OWN_CAR','FLAG_OWN_REALTY',\n",
    "                                 'NAME_TYPE_SUITE','NAME_INCOME_TYPE','NAME_EDUCATION_TYPE','NAME_FAMILY_STATUS',\n",
    "                                 'NAME_HOUSING_TYPE','WEEKDAY_APPR_PROCESS_START','ORGANIZATION_TYPE'])"
   ]
  },
  {
   "cell_type": "code",
   "execution_count": null,
   "id": "7305c097-a96d-4f34-9a9c-f7bdc9c1074d",
   "metadata": {},
   "outputs": [],
   "source": [
    "## df_new = pd.get_dummies(df_copy, columns=['CODE_GENDER'])"
   ]
  },
  {
   "cell_type": "code",
   "execution_count": null,
   "id": "fa4a0287-56f9-44f7-a56a-2651e3214f97",
   "metadata": {},
   "outputs": [],
   "source": [
    "df_new.head(2)\n",
    "#df_new.shape"
   ]
  },
  {
   "cell_type": "code",
   "execution_count": null,
   "id": "747a3496-3877-4374-8974-3045cac489d0",
   "metadata": {},
   "outputs": [],
   "source": [
    "features = list(df_new.columns)\n",
    "features.remove('TARGET')\n",
    "features"
   ]
  },
  {
   "cell_type": "code",
   "execution_count": null,
   "id": "280974f5-7416-419f-a718-eb91ae0918c9",
   "metadata": {},
   "outputs": [],
   "source": [
    "# divide the dataset into train and test data, We used 80/20\n",
    "from sklearn.model_selection import train_test_split\n",
    "\n",
    "\n",
    "x_train, x_test, y_train, y_test = train_test_split(df_new[features],df_new['TARGET'],test_size=0.2, random_state=42)\n",
    "\n",
    "\n",
    "\n",
    "x_train.shape, x_test.shape, y_train.shape, y_test.shape"
   ]
  },
  {
   "cell_type": "code",
   "execution_count": null,
   "id": "52403837-0beb-415b-8fe2-922fe65ac583",
   "metadata": {},
   "outputs": [],
   "source": [
    "from sklearn.preprocessing import StandardScaler\n",
    "\n",
    "new_df = pd.DataFrame(StandardScaler().fit_transform(df_new), columns=df_new.columns, index=df_new.index)"
   ]
  },
  {
   "cell_type": "code",
   "execution_count": null,
   "id": "d81d4388-ef1a-4cad-8d9e-a368fba24144",
   "metadata": {},
   "outputs": [],
   "source": [
    "from sklearn.preprocessing import StandardScaler\n",
    "\n",
    "scaler = StandardScaler()\n",
    "\n",
    "x_train_scaled = scaler.fit_transform(x_train)\n",
    "x_test_scaled = scaler.fit_transform(x_test)\n",
    "\n"
   ]
  },
  {
   "cell_type": "code",
   "execution_count": null,
   "id": "8d323f92-07d6-4f65-b6aa-2f111912924c",
   "metadata": {},
   "outputs": [],
   "source": [
    "x_train= x_train.values.reshape(-1, 1)\n",
    "y_train= y_train.values.reshape(-1, 1)\n",
    "x_test = x_test.values.reshape(-1, 1)"
   ]
  },
  {
   "cell_type": "code",
   "execution_count": null,
   "id": "2776cae6-e038-47c9-8ec5-2ec1eb6e4c6f",
   "metadata": {},
   "outputs": [],
   "source": [
    "df_new.shape"
   ]
  },
  {
   "cell_type": "code",
   "execution_count": null,
   "id": "c0c5d85b-259a-41ed-b46b-4679d4339b9d",
   "metadata": {},
   "outputs": [],
   "source": [
    "\n",
    "#np.any(np.isnan(df_new))\n",
    "#np.all(np.isfinite(df_new))\n",
    "\n",
    "#pd.DataFrame(df_new).fillna()\n",
    "\n",
    "#x_test.fillna(x_train.mean(), inplace=True)\n",
    "\n",
    "\n",
    "df_new = df_new.replace((np.inf, -np.inf, np.nan), 0).reset_index(drop=True)\n",
    "\n",
    "#df_new.drop(df_new.columns[np.isnan(df_new).any()], axis=1)\n"
   ]
  },
  {
   "cell_type": "markdown",
   "id": "26fb6f0c-c273-4659-a5df-840175708632",
   "metadata": {},
   "source": [
    "\n",
    "<b>\n",
    "    Decision Tree Model\n",
    "</b>\n",
    "   \n",
    "\n",
    " "
   ]
  },
  {
   "cell_type": "code",
   "execution_count": null,
   "id": "8457d83f-128d-4621-bc52-2e854fa1b029",
   "metadata": {},
   "outputs": [],
   "source": [
    "\n",
    "model = DecisionTreeClassifier()\n",
    "\n",
    "classifier = model.fit(x_train,y_train)\n",
    "\n",
    "prediction = model.predict(x_test)\n",
    "\n",
    "acc = accuracy_score(y_test, prediction)\n",
    "\n",
    "print(acc*100)\n",
    "\n",
    "#print(accuracy_score(y_test,prediction))\n",
    "print(f1_score(y_test,prediction))\n"
   ]
  },
  {
   "cell_type": "code",
   "execution_count": null,
   "id": "8e0c7600-5a63-4b1b-aae7-cb3592d71d9c",
   "metadata": {},
   "outputs": [],
   "source": [
    "#imbalanced\n",
    "\n",
    "pipeline = Pipeline([\n",
    "    ('classifier', DecisionTreeClassifier(criterion = 'entropy',\n",
    "                                           max_depth = 7, \n",
    "                                           splitter ='best',\n",
    "                                           class_weight = 'balanced',\n",
    "                                           random_state = 42))\n",
    "])\n",
    "\n",
    "pipeline.fit(x_train, y_train)\n",
    "\n",
    "pip_pred1 = pipeline.predict(x_train)\n",
    "pip_pred2 = pipeline.predict(x_test)\n",
    "\n",
    "\n",
    "print(metrics.classification_report(y_train, pip_pred1))\n",
    "print(metrics.classification_report(y_test, pip_pred2))\n",
    "\n",
    "\n"
   ]
  },
  {
   "cell_type": "code",
   "execution_count": null,
   "id": "9bcd101e-47ce-47a4-80f9-ebc26a798048",
   "metadata": {},
   "outputs": [],
   "source": []
  },
  {
   "cell_type": "markdown",
   "id": "b0244102-4cb2-4fe8-83b1-feb072b6396e",
   "metadata": {},
   "source": [
    "\n",
    "<b>\n",
    "    Random Forest Model\n",
    "</b>\n",
    "   \n",
    "\n",
    " "
   ]
  },
  {
   "cell_type": "code",
   "execution_count": null,
   "id": "7ab783d7-521c-47d6-b6c1-9c578b098398",
   "metadata": {},
   "outputs": [],
   "source": [
    "\n",
    "\n",
    "pipeline = Pipeline([\n",
    "    ('classifier',RandomForestClassifier(n_estimators=250, \n",
    "                                         criterion=\"entropy\", class_weight = 'balanced'))\n",
    "])\n",
    "\n",
    "pipeline.fit(x_train, y_train)\n",
    "pip_pred = pipeline.predict(x_test)\n",
    "print(metrics.classification_report(y_test, pip_pred))\n"
   ]
  },
  {
   "cell_type": "code",
   "execution_count": null,
   "id": "a89fb8fb-957a-4a4d-ae91-c0f595dd0236",
   "metadata": {},
   "outputs": [],
   "source": [
    "\n",
    "# summarize feature importance\n",
    "\n",
    "\n",
    "\n",
    "model = RandomForestClassifier()\n",
    "\n",
    "classifier = model.fit(x_train,y_train)\n",
    "\n",
    "prediction = model.predict(x_test)\n",
    "\n",
    "acc = accuracy_score(y_test, prediction)\n",
    "\n",
    "print(acc*100)\n",
    "\n",
    "#print(accuracy_score(y_test,prediction))\n",
    "print(f1_score(y_test,prediction))\n",
    "\n",
    "\n",
    "importance = model.feature_importances_\n",
    "\n",
    "# summarize feature importance\n",
    "for i,v in enumerate(importance):\n",
    "    print('Feature: %0d, Score: %.5f' % (i,v))"
   ]
  },
  {
   "cell_type": "code",
   "execution_count": null,
   "id": "1aeceb8b-a155-4131-ad86-7bc02c1ad2b1",
   "metadata": {},
   "outputs": [],
   "source": [
    "model = RandomForestClassifier()\n",
    "\n",
    "model.fit(x_train,y_train)\n",
    "\n",
    "prediction = model.predict(x_test)\n",
    "\n",
    "acc = accuracy_score(y_test, prediction)\n",
    "\n",
    "#print(accuracy_score(y_test,prediction))\n",
    "print('F1 score:', f1_score(y_test,prediction))\n",
    "\n",
    "print('Accuracy score:',acc*100)"
   ]
  },
  {
   "cell_type": "markdown",
   "id": "484bba7a-96d2-411f-a929-43f197a4abbd",
   "metadata": {},
   "source": [
    "\n",
    "<b>\n",
    "    Logistic regression Model\n",
    "</b>\n",
    "   \n",
    "\n",
    "\n",
    "\n",
    "\n"
   ]
  },
  {
   "cell_type": "code",
   "execution_count": null,
   "id": "82763a02-e099-4fdf-b52e-8781e3a61005",
   "metadata": {},
   "outputs": [],
   "source": [
    "\n",
    "\n",
    "pipeline = Pipeline([\n",
    "    ('classifier', LogisticRegression(max_iter=10, penalty='l2', class_weight = 'balanced'))\n",
    "])\n",
    "\n",
    "\n",
    "#review_train, review_test, label_train, label_test = train_test_split(X, y, test_size=0.20)\n",
    "pipeline.fit(x_train, y_train)\n",
    "pip_pred = pipeline.predict(x_test)\n",
    "print(metrics.classification_report(y_test, pip_pred))"
   ]
  },
  {
   "cell_type": "markdown",
   "id": "d601335b-b876-4a86-96ea-ee3756d2de08",
   "metadata": {},
   "source": [
    "\n",
    "<b>\n",
    "    KNN (k-nearest neighbor) Model\n",
    "</b>\n",
    "   \n",
    "\n",
    "\n",
    "\n",
    "\n"
   ]
  },
  {
   "cell_type": "code",
   "execution_count": null,
   "id": "243a895e-3190-4e72-a686-023818b4c936",
   "metadata": {},
   "outputs": [],
   "source": [
    "\n",
    "\n",
    "\n",
    "pipeline = Pipeline([\n",
    "    ('classifier', KNeighborsClassifier())\n",
    "])\n",
    "\n",
    "\n",
    "#review_train, review_test, label_train, label_test = train_test_split(X, y, test_size=0.20)\n",
    "pipeline.fit(x_train, y_train)\n",
    "pip_pred = pipeline.predict(x_test)\n",
    "print(metrics.classification_report(y_test, pip_pred))"
   ]
  },
  {
   "cell_type": "markdown",
   "id": "427578ff-c731-433f-a670-8b818b50711d",
   "metadata": {},
   "source": [
    "\n",
    "<b>\n",
    "    SVM Model\n",
    "</b>\n",
    "   \n",
    "\n",
    "\n",
    "\n",
    "\n"
   ]
  },
  {
   "cell_type": "code",
   "execution_count": null,
   "id": "9099ca03-4acb-4878-85b6-2d8281075e02",
   "metadata": {},
   "outputs": [],
   "source": [
    "\n",
    "pipeline = Pipeline([\n",
    "    ('classifier', SGDClassifier(loss='hinge', penalty='l2',\n",
    "                            alpha=1e-3, random_state=42,class_weight = 'balanced',\n",
    "                             max_iter=5, tol=None))\n",
    "])\n",
    "pipeline.fit(x_train, y_train)\n",
    "pip_pred = pipeline.predict(x_test)\n",
    "print(metrics.classification_report(y_test, pip_pred))\n",
    "\n"
   ]
  },
  {
   "cell_type": "code",
   "execution_count": null,
   "id": "2292d73c-d3e0-4243-9cc4-861d8bce9ab3",
   "metadata": {},
   "outputs": [],
   "source": [
    "model = SGDClassifier()\n",
    "\n",
    "model.fit(x_train,y_train)\n",
    "\n",
    "prediction = model.predict(x_test)\n",
    "\n",
    "acc = accuracy_score(y_test, prediction)\n",
    "\n",
    "print(acc*100)\n",
    "\n",
    "#print(accuracy_score(y_test,prediction))\n",
    "#print(f1_score(y_test,prediction))\n",
    "\n"
   ]
  },
  {
   "cell_type": "code",
   "execution_count": null,
   "id": "57661203-f79d-47f2-961a-a025d72b405d",
   "metadata": {},
   "outputs": [],
   "source": [
    "model = SVC(random_state=1)\n",
    "\n",
    "model.fit(x_train,y_train)\n",
    "\n",
    "prediction = model.predict(x_test)\n",
    "\n",
    "acc = accuracy_score(y_test, prediction)\n",
    "\n",
    "print(acc*100)\n",
    "\n",
    "#print(accuracy_score(y_test,prediction))\n",
    "#print(f1_score(y_test,prediction))\n",
    "\n"
   ]
  },
  {
   "cell_type": "markdown",
   "id": "272ae70a-ab01-4287-88aa-fa400693f1a0",
   "metadata": {},
   "source": [
    "\n",
    "<b>\n",
    "    Naive Bias Model\n",
    "</b>\n",
    "   \n",
    "\n",
    "\n",
    "\n",
    "\n"
   ]
  },
  {
   "cell_type": "code",
   "execution_count": null,
   "id": "2c39baef-06ae-4d6c-8430-4bfddd33d8fe",
   "metadata": {},
   "outputs": [],
   "source": [
    "\n",
    "pipeline = Pipeline([\n",
    "    ('classifier', GaussianNB())\n",
    "])\n",
    "\n",
    "#review_train, review_test, label_train, label_test = train_test_split(X, y, test_size=0.20)\n",
    "pipeline.fit(x_train, y_train)\n",
    "pip_pred = pipeline.predict(x_test)\n",
    "print(metrics.classification_report(y_test, pip_pred))"
   ]
  },
  {
   "cell_type": "code",
   "execution_count": null,
   "id": "7ed29bc9-3bf6-46a9-b894-d7683f9c57ed",
   "metadata": {},
   "outputs": [],
   "source": [
    "model = GaussianNB()\n",
    "\n",
    "model.fit(x_train,y_train)\n",
    "\n",
    "prediction = model.predict(x_test)\n",
    "\n",
    "acc = accuracy_score(y_test, prediction)\n",
    "\n",
    "print(acc*100)\n",
    "\n",
    "#print(accuracy_score(y_test,prediction))\n",
    "#print(f1_score(y_test,prediction))\n",
    "\n",
    "\n"
   ]
  },
  {
   "cell_type": "markdown",
   "id": "9f7491bf-78ff-4225-ba45-dd6176148329",
   "metadata": {},
   "source": [
    "\n",
    "<b>\n",
    "    XGBoost Classifier Model\n",
    "</b>\n",
    "   \n",
    "\n",
    "\n",
    "\n",
    "\n"
   ]
  },
  {
   "cell_type": "code",
   "execution_count": null,
   "id": "04299c97-16c2-47d1-968e-eb4950e4df07",
   "metadata": {},
   "outputs": [],
   "source": [
    "\n",
    "\n",
    "\n",
    "pipeline = Pipeline([\n",
    "    ('classifier', GradientBoostingClassifier(random_state=42, learning_rate=0.1, max_depth = 16, \n",
    "                                              n_estimators= 250))\n",
    "     ])\n",
    "\n",
    "\n",
    "#review_train, review_test, label_train, label_test = train_test_split(X, y, test_size=0.20)\n",
    "pipeline.fit(x_train, y_train)\n",
    "pip_pred = pipeline.predict(x_test)\n",
    "print(metrics.classification_report(y_test, pip_pred))"
   ]
  },
  {
   "cell_type": "code",
   "execution_count": null,
   "id": "3923ce7b-48ce-42b1-b073-c972ffaf342c",
   "metadata": {},
   "outputs": [],
   "source": []
  }
 ],
 "metadata": {
  "kernelspec": {
   "display_name": "Python 3 (ipykernel)",
   "language": "python",
   "name": "python3"
  },
  "language_info": {
   "codemirror_mode": {
    "name": "ipython",
    "version": 3
   },
   "file_extension": ".py",
   "mimetype": "text/x-python",
   "name": "python",
   "nbconvert_exporter": "python",
   "pygments_lexer": "ipython3",
   "version": "3.9.7"
  }
 },
 "nbformat": 4,
 "nbformat_minor": 5
}
